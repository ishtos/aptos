{
 "cells": [
  {
   "cell_type": "code",
   "execution_count": 12,
   "metadata": {},
   "outputs": [],
   "source": [
    "import os\n",
    "import sys\n",
    "import gc\n",
    "import time\n",
    "import random\n",
    "import cv2\n",
    "import glob\n",
    "import requests\n",
    "import json\n",
    "import math\n",
    "import re\n",
    "import scipy\n",
    "\n",
    "import pandas as pd\n",
    "import numpy as np\n",
    "import seaborn as sns\n",
    "import matplotlib.pyplot as plt\n",
    "\n",
    "from functools import partial\n",
    "from collections import Counter\n",
    "from collections import defaultdict\n",
    "from PIL import Image\n",
    "from multiprocessing import cpu_count\n",
    "from tqdm import tqdm_notebook as tqdm\n",
    "from multiprocessing import Pool\n",
    "\n",
    "import torch\n",
    "import torch.nn as nn\n",
    "import torch.nn.init as init\n",
    "import torch.optim as optim\n",
    "import torch.nn.functional as F\n",
    "import torchvision.models as models\n",
    "import torchvision.transforms as transforms\n",
    "from torch.utils.data import DataLoader, Dataset, SubsetRandomSampler\n",
    "\n",
    "from fastai import *\n",
    "from fastai.vision import *\n",
    "from fastai.callbacks import *\n",
    "\n",
    "from sklearn.preprocessing import LabelEncoder, OneHotEncoder\n",
    "from sklearn.model_selection import train_test_split\n",
    "from sklearn.metrics import cohen_kappa_score"
   ]
  },
  {
   "cell_type": "code",
   "execution_count": 3,
   "metadata": {},
   "outputs": [],
   "source": [
    "pd.options.display.max_columns = None"
   ]
  },
  {
   "cell_type": "code",
   "execution_count": 4,
   "metadata": {},
   "outputs": [],
   "source": [
    "pre_df = pd.read_csv(os.path.join('..', 'input', 'retinopathy-train-2015', 'trainLabels.csv'))"
   ]
  },
  {
   "cell_type": "code",
   "execution_count": 5,
   "metadata": {},
   "outputs": [],
   "source": [
    "image_name_list = os.listdir(os.path.join('..', 'input', 'retinopathy-train-2015', 'rescaled_train_896'))\n",
    "image_name_path_list = [os.path.join('..', 'input', 'retinopathy-train-2015', 'rescaled_train_896', f'{image}') for image in image_name_list]\n",
    "pre_df['path'] = image_name_path_list"
   ]
  },
  {
   "cell_type": "code",
   "execution_count": 6,
   "metadata": {},
   "outputs": [],
   "source": [
    "base_image_dir = os.path.join('..', 'input')\n",
    "train_dir = os.path.join(base_image_dir, 'train_images')\n",
    "train_df = pd.read_csv(os.path.join(base_image_dir, 'train.csv'))\n",
    "train_df['path'] = train_df['id_code'].map(lambda x: os.path.join(train_dir, '{}.png'.format(x)))"
   ]
  },
  {
   "cell_type": "code",
   "execution_count": 7,
   "metadata": {},
   "outputs": [],
   "source": [
    "base_image_dir = os.path.join('..', 'input')\n",
    "test_dir = os.path.join(base_image_dir, 'test_images')\n",
    "test_df = pd.read_csv(os.path.join(base_image_dir, 'test.csv'))\n",
    "test_df['path'] = test_df['id_code'].map(lambda x: os.path.join(test_dir, '{}.png'.format(x)))"
   ]
  },
  {
   "cell_type": "code",
   "execution_count": 8,
   "metadata": {},
   "outputs": [],
   "source": [
    "def get_image_size_list(image_name_path_list):\n",
    "    width = []\n",
    "    height = []\n",
    "    \n",
    "    for image_name in tqdm(image_name_path_list):\n",
    "        image = cv2.imread(image_name)\n",
    "        w, h, _ = image.shape\n",
    "        width.append(w)\n",
    "        height.append(h)\n",
    "    \n",
    "    return width, height"
   ]
  },
  {
   "cell_type": "code",
   "execution_count": 9,
   "metadata": {},
   "outputs": [],
   "source": [
    "def get_image_brightness_list(image_name_path_list):\n",
    "    image_brightness_list = []\n",
    "    for image_name in tqdm(image_name_path_list):\n",
    "        image = cv2.imread(image_name)\n",
    "        image = cv2.cvtColor(image, cv2.COLOR_BGR2GRAY)\n",
    "        image = cv2.resize(image, (224, 224))\n",
    "        image_brightness_list.append(np.mean(image))\n",
    "    \n",
    "    return image_brightness_list"
   ]
  },
  {
   "cell_type": "code",
   "execution_count": 10,
   "metadata": {},
   "outputs": [
    {
     "name": "stderr",
     "output_type": "stream",
     "text": [
      "100%|██████████| 35126/35126 [06:57<00:00, 84.06it/s]\n",
      "100%|██████████| 3662/3662 [03:54<00:00, 17.54it/s]\n",
      "100%|██████████| 1928/1928 [00:43<00:00, 44.14it/s]\n"
     ]
    }
   ],
   "source": [
    "pre_brightness = get_image_brightness_list(pre_df['path'])\n",
    "train_brightness = get_image_brightness_list(train_df['path'])\n",
    "test_brightness = get_image_brightness_list(test_df['path'])"
   ]
  },
  {
   "cell_type": "code",
   "execution_count": 11,
   "metadata": {},
   "outputs": [
    {
     "data": {
      "text/plain": [
       "49"
      ]
     },
     "execution_count": 11,
     "metadata": {},
     "output_type": "execute_result"
    }
   ],
   "source": [
    "pre_df['brightness'] = pre_brightness\n",
    "train_df['brightness'] = train_brightness\n",
    "test_df['brightness'] = test_brightness\n",
    "\n",
    "del pre_brightness, train_brightness, test_brightness\n",
    "gc.collect()"
   ]
  },
  {
   "cell_type": "code",
   "execution_count": null,
   "metadata": {},
   "outputs": [],
   "source": []
  }
 ],
 "metadata": {
  "kernelspec": {
   "display_name": "Python 3",
   "language": "python",
   "name": "python3"
  },
  "language_info": {
   "codemirror_mode": {
    "name": "ipython",
    "version": 3
   },
   "file_extension": ".py",
   "mimetype": "text/x-python",
   "name": "python",
   "nbconvert_exporter": "python",
   "pygments_lexer": "ipython3",
   "version": "3.6.5"
  }
 },
 "nbformat": 4,
 "nbformat_minor": 2
}
