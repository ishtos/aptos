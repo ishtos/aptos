{
 "cells": [
  {
   "cell_type": "code",
   "execution_count": 8,
   "metadata": {},
   "outputs": [],
   "source": [
    "import os\n",
    "import sys\n",
    "import gc\n",
    "import time\n",
    "import random\n",
    "import cv2\n",
    "import glob\n",
    "import requests\n",
    "import json\n",
    "import math\n",
    "import re\n",
    "import hashlib\n",
    "import psutil\n",
    "\n",
    "import pandas as pd\n",
    "import numpy as np\n",
    "import seaborn as sns\n",
    "import matplotlib.pyplot as plt\n",
    "\n",
    "from functools import partial\n",
    "from collections import Counter\n",
    "from PIL import Image\n",
    "from multiprocessing import cpu_count\n",
    "from tqdm import tqdm\n",
    "from multiprocessing import Pool\n",
    "from statistics import median\n",
    "from joblib import Parallel, delayed\n",
    "\n",
    "import torch\n",
    "import torch.nn as nn\n",
    "import torch.nn.init as init\n",
    "import torch.optim as optim\n",
    "import torch.nn.functional as F\n",
    "import torchvision.models as models\n",
    "import torchvision.transforms as transforms\n",
    "from torch.utils.data import DataLoader, Dataset, SubsetRandomSampler\n",
    "\n",
    "from fastai import *\n",
    "from fastai.vision import *\n",
    "from fastai.callbacks import *\n",
    "\n",
    "from sklearn.preprocessing import LabelEncoder, OneHotEncoder\n",
    "from sklearn.model_selection import train_test_split\n",
    "from sklearn.metrics import cohen_kappa_score"
   ]
  },
  {
   "cell_type": "code",
   "execution_count": 16,
   "metadata": {},
   "outputs": [],
   "source": [
    "def crop_image_from_gray(image, tol=8):\n",
    "    if image.ndim == 2:\n",
    "        mask = image>told\n",
    "        return image[np.ix_(mask.any(1),mask.any(0))]\n",
    "    elif image.ndim== 3:\n",
    "        gray_image = cv2.cvtColor(image, cv2.COLOR_BGR2GRAY)\n",
    "        mask = gray_image>tol        \n",
    "        check_shape = image[:,:,0][np.ix_(mask.any(1),mask.any(0))].shape[0]\n",
    "        if (check_shape == 0):\n",
    "            return image\n",
    "        else:\n",
    "            image1=image[:,:,0][np.ix_(mask.any(1),mask.any(0))]\n",
    "            image2=image[:,:,1][np.ix_(mask.any(1),mask.any(0))]\n",
    "            image3=image[:,:,2][np.ix_(mask.any(1),mask.any(0))]\n",
    "            image = np.stack([image1,image2,image3],axis=-1)\n",
    "        return image\n",
    "\n",
    "def save(image_name, path):\n",
    "    image_size = 300\n",
    "    image = cv2.imread(path)\n",
    "    image = crop_image_from_gray(image)\n",
    "    image = cv2.cvtColor(image, cv2.COLOR_BGR2RGB)\n",
    "    height, width, depth = image.shape\n",
    "    rate = height / width\n",
    "    height = int(image_size * rate)\n",
    "    width = image_size\n",
    "    image = cv2.resize(image, (height, width))\n",
    "    image = cv2.addWeighted (image, 4, cv2.GaussianBlur(image , (0,0) , 30) , -4, 128) \n",
    "    \n",
    "    largest_side = np.max((height, width))\n",
    "    image = cv2.resize(image, (image_size, largest_side))\n",
    "\n",
    "    height, width, depth = image.shape\n",
    "\n",
    "    x = width // 2\n",
    "    y = height // 2\n",
    "    r = np.amin((x, y))\n",
    "\n",
    "    circle_image = np.zeros((height, width), np.uint8)\n",
    "    cv2.circle(circle_image, (x, y), int(r), 1, thickness=-1)\n",
    "    image = cv2.bitwise_and(image, image, mask=circle_image)\n",
    "    image = crop_image_from_gray(image)\n",
    "    cv2.imwrite(os.path.join('..', 'output', 'retina', f'{image_name}.png'), image)"
   ]
  },
  {
   "cell_type": "code",
   "execution_count": 17,
   "metadata": {},
   "outputs": [],
   "source": [
    "pre_df = pd.read_csv(os.path.join('..', 'input', 'retinopathy-train-2015', 'trainLabels.csv'))\n",
    "image_name_list = os.listdir(os.path.join('..', 'input', 'retinopathy-train-2015', 'rescaled_train_896'))\n",
    "image_name_path_list = [os.path.join('..', 'input', 'retinopathy-train-2015', 'rescaled_train_896', f'{image}') for image in image_name_list]\n",
    "pre_df['path'] = image_name_path_list"
   ]
  },
  {
   "cell_type": "code",
   "execution_count": 18,
   "metadata": {},
   "outputs": [],
   "source": [
    "base_image_dir = os.path.join('..', 'input')\n",
    "train_dir = os.path.join(base_image_dir, 'train_images')\n",
    "train_df = pd.read_csv(os.path.join(base_image_dir, 'train.csv'))\n",
    "train_df['path'] = train_df['id_code'].map(lambda x: os.path.join(train_dir, '{}.png'.format(x)))"
   ]
  },
  {
   "cell_type": "code",
   "execution_count": 19,
   "metadata": {},
   "outputs": [
    {
     "name": "stderr",
     "output_type": "stream",
     "text": [
      "3662it [13:51,  3.98it/s]\n"
     ]
    }
   ],
   "source": [
    "for (idx, row) in tqdm(train_df.iterrows()):\n",
    "    save(row['id_code'], row['path'])"
   ]
  },
  {
   "cell_type": "code",
   "execution_count": 20,
   "metadata": {},
   "outputs": [],
   "source": [
    "def save(image_name, path):\n",
    "    image_size = 300\n",
    "    image = cv2.imread(path)\n",
    "    image = crop_image_from_gray(image)\n",
    "    image = cv2.cvtColor(image, cv2.COLOR_BGR2RGB)\n",
    "    height, width, depth = image.shape\n",
    "    rate = height / width\n",
    "    height = int(image_size * rate)\n",
    "    width = image_size\n",
    "    image = cv2.resize(image, (height, width))\n",
    "    image = cv2.addWeighted (image, 4, cv2.GaussianBlur(image , (0,0) , 30) , -4, 128) \n",
    "    \n",
    "    largest_side = np.max((height, width))\n",
    "    image = cv2.resize(image, (image_size, largest_side))\n",
    "\n",
    "    height, width, depth = image.shape\n",
    "\n",
    "    x = width // 2\n",
    "    y = height // 2\n",
    "    r = np.amin((x, y))\n",
    "\n",
    "    circle_image = np.zeros((height, width), np.uint8)\n",
    "    cv2.circle(circle_image, (x, y), int(r), 1, thickness=-1)\n",
    "    image = cv2.bitwise_and(image, image, mask=circle_image)\n",
    "    image = crop_image_from_gray(image)\n",
    "    cv2.imwrite(os.path.join('..', 'output', 'previous_retina', f'{image_name}.png'), image)"
   ]
  },
  {
   "cell_type": "code",
   "execution_count": 22,
   "metadata": {},
   "outputs": [
    {
     "name": "stderr",
     "output_type": "stream",
     "text": [
      "35126it [1:00:32,  8.86it/s]\n"
     ]
    }
   ],
   "source": [
    "for (idx, row) in tqdm(pre_df.iterrows()):\n",
    "    save(row['image'], row['path'])"
   ]
  },
  {
   "cell_type": "code",
   "execution_count": null,
   "metadata": {},
   "outputs": [],
   "source": []
  }
 ],
 "metadata": {
  "kernelspec": {
   "display_name": "Python 3",
   "language": "python",
   "name": "python3"
  },
  "language_info": {
   "codemirror_mode": {
    "name": "ipython",
    "version": 3
   },
   "file_extension": ".py",
   "mimetype": "text/x-python",
   "name": "python",
   "nbconvert_exporter": "python",
   "pygments_lexer": "ipython3",
   "version": "3.6.5"
  }
 },
 "nbformat": 4,
 "nbformat_minor": 2
}
